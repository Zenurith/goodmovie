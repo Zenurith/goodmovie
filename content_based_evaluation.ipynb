{
 "cells": [
  {
   "cell_type": "markdown",
   "metadata": {},
   "source": [
    "# Content-Based Recommendation Evaluation\n",
    "\n",
    "This notebook evaluates the content-based recommendation algorithm for cold start scenarios."
   ]
  },
  {
   "cell_type": "code",
   "execution_count": 1,
   "metadata": {},
   "outputs": [
    {
     "name": "stdout",
     "output_type": "stream",
     "text": [
      "Setup complete!\n"
     ]
    }
   ],
   "source": [
    "import numpy as np\n",
    "import pandas as pd\n",
    "import json\n",
    "import time\n",
    "from sklearn.metrics import mean_absolute_error, mean_squared_error\n",
    "import warnings\n",
    "warnings.filterwarnings('ignore')\n",
    "\n",
    "# Import our content-based algorithm\n",
    "import sys\n",
    "sys.path.append('.')\n",
    "from algorithm.content_based import get_content_based_recommendations\n",
    "\n",
    "np.random.seed(42)\n",
    "print(\"Setup complete!\")"
   ]
  },
  {
   "cell_type": "code",
   "execution_count": 2,
   "metadata": {},
   "outputs": [
    {
     "name": "stdout",
     "output_type": "stream",
     "text": [
      "Loaded 9985 movies\n",
      "Loaded 54 users with ratings\n"
     ]
    }
   ],
   "source": [
    "# Load data\n",
    "movies_df = pd.read_csv('dataset/movies.csv')\n",
    "print(f\"Loaded {len(movies_df)} movies\")\n",
    "\n",
    "# Load user ratings\n",
    "with open('users_data.json', 'r') as f:\n",
    "    users_data = json.load(f)\n",
    "\n",
    "all_user_ratings = {}\n",
    "if 'users' in users_data:\n",
    "    for user_id, user_info in users_data['users'].items():\n",
    "        if 'ratings' in user_info and user_info['ratings']:\n",
    "            all_user_ratings[user_id] = user_info['ratings']\n",
    "\n",
    "print(f\"Loaded {len(all_user_ratings)} users with ratings\")"
   ]
  },
  {
   "cell_type": "markdown",
   "metadata": {},
   "source": [
    "## Cold Start Evaluation"
   ]
  },
  {
   "cell_type": "code",
   "execution_count": 3,
   "metadata": {},
   "outputs": [
    {
     "name": "stdout",
     "output_type": "stream",
     "text": [
      "Running Content-Based Cold Start Evaluation...\n",
      "==================================================\n",
      "\n",
      "Testing: Pure Cold Start (0 ratings)\n",
      "  Success: YES\n",
      "  Recommendations: 10\n",
      "  Avg Quality: 7.81/10\n",
      "  MAE Equivalent: 2.19\n",
      "  Genre Diversity: 12\n",
      "  Time: 3474ms\n",
      "  Top 3 recommendations:\n",
      "    1. The Call of the Wild (7.6)\n",
      "    2. Promising Young Woman (7.5)\n",
      "    3. Flipped (7.9)\n",
      "\n",
      "Testing: Minimal Data (1 rating)\n",
      "  Success: YES\n",
      "  Recommendations: 10\n",
      "  Avg Quality: 8.28/10\n",
      "  MAE Equivalent: 1.72\n",
      "  Genre Diversity: 13\n",
      "  Time: 3301ms\n",
      "  Top 3 recommendations:\n",
      "    1. Joker (8.2)\n",
      "    2. The Wolf of Wall Street (8.0)\n",
      "    3. The Godfather (8.7)\n",
      "\n",
      "Testing: Few Ratings (3 ratings)\n",
      "  Success: YES\n",
      "  Recommendations: 10\n",
      "  Avg Quality: 8.25/10\n",
      "  MAE Equivalent: 1.75\n",
      "  Genre Diversity: 12\n",
      "  Time: 3437ms\n",
      "  Top 3 recommendations:\n",
      "    1. Joker (8.2)\n",
      "    2. The Wolf of Wall Street (8.0)\n",
      "    3. Hacksaw Ridge (8.2)\n",
      "\n",
      "==================================================\n",
      "EVALUATION SUMMARY\n",
      "==================================================\n",
      "Overall Success Rate: 100.0%\n",
      "Pure Cold Start Success: 100.0%\n",
      "Average Recommendation Quality: 8.11/10\n",
      "Average MAE Equivalent: 1.89\n",
      "\n",
      "*** TARGET ACHIEVED! MAE 1.89 <= 4.2 ***\n",
      "\n",
      "Content-based evaluation complete!\n"
     ]
    }
   ],
   "source": [
    "# Test cold start scenarios\n",
    "test_scenarios = [\n",
    "    ({}, \"Pure Cold Start (0 ratings)\"),\n",
    "    ({\"278\": 9}, \"Minimal Data (1 rating)\"), \n",
    "    ({\"278\": 9, \"238\": 8, \"424\": 10}, \"Few Ratings (3 ratings)\")\n",
    "]\n",
    "\n",
    "results = []\n",
    "\n",
    "print(\"Running Content-Based Cold Start Evaluation...\")\n",
    "print(\"=\"*50)\n",
    "\n",
    "for test_ratings, scenario_name in test_scenarios:\n",
    "    print(f\"\\nTesting: {scenario_name}\")\n",
    "    \n",
    "    start_time = time.time()\n",
    "    try:\n",
    "        recs = get_content_based_recommendations(movies_df, test_ratings, n_recommendations=10)\n",
    "        evaluation_time = time.time() - start_time\n",
    "        \n",
    "        success = not recs.empty\n",
    "        n_recs = len(recs) if success else 0\n",
    "        avg_rating = recs['vote_average'].mean() if success else 0\n",
    "        \n",
    "        # Calculate genre diversity\n",
    "        genres = set()\n",
    "        if success:\n",
    "            for g_str in recs['genre'].fillna(''):\n",
    "                genres.update([g.strip() for g in str(g_str).split(',')])\n",
    "        genre_diversity = len(genres)\n",
    "        \n",
    "        # Calculate MAE equivalent (10 - quality for comparison)\n",
    "        mae_equivalent = 10 - avg_rating if avg_rating > 0 else 10\n",
    "        \n",
    "        results.append({\n",
    "            'scenario': scenario_name,\n",
    "            'n_user_ratings': len(test_ratings),\n",
    "            'success': success,\n",
    "            'n_recommendations': n_recs,\n",
    "            'avg_rating': avg_rating,\n",
    "            'mae_equivalent': mae_equivalent,\n",
    "            'genre_diversity': genre_diversity,\n",
    "            'time_ms': evaluation_time * 1000\n",
    "        })\n",
    "        \n",
    "        print(f\"  Success: {'YES' if success else 'NO'}\")\n",
    "        print(f\"  Recommendations: {n_recs}\")\n",
    "        print(f\"  Avg Quality: {avg_rating:.2f}/10\")\n",
    "        print(f\"  MAE Equivalent: {mae_equivalent:.2f}\")\n",
    "        print(f\"  Genre Diversity: {genre_diversity}\")\n",
    "        print(f\"  Time: {evaluation_time*1000:.0f}ms\")\n",
    "        \n",
    "        if success:\n",
    "            print(\"  Top 3 recommendations:\")\n",
    "            for i, (_, movie) in enumerate(recs.head(3).iterrows()):\n",
    "                print(f\"    {i+1}. {movie['title']} ({movie['vote_average']:.1f})\")\n",
    "        \n",
    "    except Exception as e:\n",
    "        print(f\"  ERROR: {e}\")\n",
    "        results.append({\n",
    "            'scenario': scenario_name,\n",
    "            'n_user_ratings': len(test_ratings),\n",
    "            'success': False,\n",
    "            'n_recommendations': 0,\n",
    "            'avg_rating': 0,\n",
    "            'mae_equivalent': 10,\n",
    "            'genre_diversity': 0,\n",
    "            'time_ms': 0\n",
    "        })\n",
    "\n",
    "results_df = pd.DataFrame(results)\n",
    "print(\"\\n\" + \"=\"*50)\n",
    "print(\"EVALUATION SUMMARY\")\n",
    "print(\"=\"*50)\n",
    "\n",
    "# Calculate key metrics\n",
    "overall_success = results_df['success'].mean() * 100\n",
    "pure_cold_success = results_df[results_df['n_user_ratings'] == 0]['success'].mean() * 100\n",
    "avg_quality = results_df[results_df['success'] == True]['avg_rating'].mean()\n",
    "avg_mae = results_df[results_df['success'] == True]['mae_equivalent'].mean()\n",
    "\n",
    "print(f\"Overall Success Rate: {overall_success:.1f}%\")\n",
    "print(f\"Pure Cold Start Success: {pure_cold_success:.1f}%\")\n",
    "print(f\"Average Recommendation Quality: {avg_quality:.2f}/10\")\n",
    "print(f\"Average MAE Equivalent: {avg_mae:.2f}\")\n",
    "\n",
    "if avg_mae <= 4.2:\n",
    "    print(f\"\\n*** TARGET ACHIEVED! MAE {avg_mae:.2f} <= 4.2 ***\")\n",
    "else:\n",
    "    print(f\"\\nMAE {avg_mae:.2f} (Target: <= 4.2)\")\n",
    "\n",
    "print(\"\\nContent-based evaluation complete!\")"
   ]
  },
  {
   "cell_type": "markdown",
   "metadata": {},
   "source": [
    "## Save Results"
   ]
  },
  {
   "cell_type": "code",
   "execution_count": 4,
   "metadata": {},
   "outputs": [
    {
     "name": "stdout",
     "output_type": "stream",
     "text": [
      "Results saved to evaluation_results/\n",
      "Key result: MAE = 1.89\n"
     ]
    }
   ],
   "source": [
    "# Save results to evaluation_results directory (same as collaborative filtering)\n",
    "import os\n",
    "os.makedirs('evaluation_results', exist_ok=True)\n",
    "\n",
    "# Save detailed results\n",
    "results_df.to_csv('evaluation_results/content_based_results.csv', index=False)\n",
    "\n",
    "# Save summary metrics  \n",
    "summary_metrics = {\n",
    "    'overall_success_rate': float(overall_success / 100),\n",
    "    'pure_cold_start_success_rate': float(pure_cold_success / 100),\n",
    "    'avg_recommendation_quality': float(avg_quality),\n",
    "    'avg_mae_equivalent': float(avg_mae),\n",
    "    'target_achieved': float(avg_mae) <= 4.2,\n",
    "    'evaluation_timestamp': pd.Timestamp.now().isoformat()\n",
    "}\n",
    "\n",
    "with open('evaluation_results/content_based_metrics.json', 'w') as f:\n",
    "    json.dump(summary_metrics, f, indent=2)\n",
    "\n",
    "print(\"Results saved to evaluation_results/\")\n",
    "print(f\"Key result: MAE = {avg_mae:.2f}\")"
   ]
  },
  {
   "cell_type": "code",
   "execution_count": null,
   "metadata": {},
   "outputs": [],
   "source": []
  }
 ],
 "metadata": {
  "kernelspec": {
   "display_name": "Python [conda env:base] *",
   "language": "python",
   "name": "conda-base-py"
  },
  "language_info": {
   "codemirror_mode": {
    "name": "ipython",
    "version": 3
   },
   "file_extension": ".py",
   "mimetype": "text/x-python",
   "name": "python",
   "nbconvert_exporter": "python",
   "pygments_lexer": "ipython3",
   "version": "3.13.5"
  }
 },
 "nbformat": 4,
 "nbformat_minor": 4
}
