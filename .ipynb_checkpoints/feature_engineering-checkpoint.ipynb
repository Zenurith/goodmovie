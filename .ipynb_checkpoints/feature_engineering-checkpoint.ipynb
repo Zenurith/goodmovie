{
 "cells": [
  {
   "cell_type": "markdown",
   "metadata": {},
   "source": [
    "# Movie Recommender System - Feature Engineering\n",
    "This notebook creates engineered features for the movie recommendation system."
   ]
  },
  {
   "cell_type": "code",
   "execution_count": null,
   "metadata": {},
   "outputs": [],
   "source": [
    "import pandas as pd\nimport numpy as np\nimport matplotlib.pyplot as plt\nimport seaborn as sns\nfrom sklearn.feature_extraction.text import TfidfVectorizer, CountVectorizer\nfrom sklearn.preprocessing import StandardScaler, LabelEncoder\nfrom sklearn.metrics.pairwise import cosine_similarity\nimport warnings\nwarnings.filterwarnings('ignore')\n\nprint(\"📚 Loading cleaned movie dataset...\")\n\n# Load the cleaned dataset\nmovies_df = pd.read_csv('movies_clean.csv')\n\nprint(f\"Dataset shape: {movies_df.shape}\")\nprint(f\"Columns: {list(movies_df.columns)}\")\nprint(\"\\n✅ Dataset loaded successfully!\")"
   ]
  },
  {
   "cell_type": "code",
   "execution_count": null,
   "metadata": {},
   "outputs": [],
   "source": [
    "print(\"🔍 EXPLORING THE CLEANED DATASET\")\nprint(\"=\"*50)\n\n# Basic info\nprint(f\"Total movies: {len(movies_df):,}\")\nprint(f\"Date range: {movies_df['release_year'].min():.0f} - {movies_df['release_year'].max():.0f}\")\nprint(f\"Rating range: {movies_df['vote_average'].min():.1f} - {movies_df['vote_average'].max():.1f}\")\n\n# Check data types and missing values\nprint(\"\\n📊 Data Info:\")\nprint(movies_df.info())\n\nprint(\"\\n❌ Missing Values:\")\nmissing_data = movies_df.isnull().sum()\nprint(missing_data[missing_data > 0])\n\n# Sample data\nprint(\"\\n📖 Sample Data:\")\nprint(movies_df.head(3)[['title', 'vote_average', 'vote_count', 'genres_str', 'release_year']])"
   ]
  },
  {
   "cell_type": "code",
   "execution_count": null,
   "metadata": {},
   "outputs": [],
   "source": [
    "print(\"🔧 FEATURE ENGINEERING STEP 1: Numerical Features from Metadata\")\nprint(\"=\"*60)\n\n# Create a copy for feature engineering\nfeatures_df = movies_df.copy()\n\n# 1. Popularity Score (normalized)\nfeatures_df['popularity_score'] = (features_df['popularity'] - features_df['popularity'].min()) / (features_df['popularity'].max() - features_df['popularity'].min())\n\n# 2. Rating Score (weighted by vote count)\nmin_votes = features_df['vote_count'].quantile(0.25)  # 25th percentile\nfeatures_df['weighted_rating'] = ((features_df['vote_count'] / (features_df['vote_count'] + min_votes)) * features_df['vote_average']) + ((min_votes / (features_df['vote_count'] + min_votes)) * features_df['vote_average'].mean())\n\n# 3. Budget and Revenue features\nfeatures_df['budget_millions'] = features_df['budget'] / 1_000_000\nfeatures_df['revenue_millions'] = features_df['revenue'] / 1_000_000\nfeatures_df['profit_millions'] = features_df['revenue_millions'] - features_df['budget_millions']\nfeatures_df['roi'] = np.where(features_df['budget_millions'] > 0, features_df['profit_millions'] / features_df['budget_millions'], 0)\n\n# 4. Runtime categories\nfeatures_df['runtime_category'] = pd.cut(features_df['runtime'], \n                                       bins=[0, 90, 120, 150, 300], \n                                       labels=['Short', 'Medium', 'Long', 'Very_Long'])\n\n# 5. Decade feature\nfeatures_df['decade'] = (features_df['release_year'] // 10) * 10\n\n# 6. Movie age (years from release to now)\ncurrent_year = 2024\nfeatures_df['movie_age'] = current_year - features_df['release_year']\n\nprint(f\"✅ Created numerical features:\")\nprint(f\"   • Popularity score (normalized)\")\nprint(f\"   • Weighted rating (vote-adjusted)\")\nprint(f\"   • Budget/Revenue in millions\")\nprint(f\"   • Profit and ROI\")\nprint(f\"   • Runtime categories\")\nprint(f\"   • Decade and movie age\")\n\nprint(f\"\\n📊 Sample of new features:\")\nprint(features_df[['title', 'popularity_score', 'weighted_rating', 'profit_millions', 'roi', 'runtime_category', 'decade']].head())"
   ]
  },
  {
   "cell_type": "code",
   "execution_count": null,
   "metadata": {},
   "outputs": [],
   "source": [
    "print(\"🔧 FEATURE ENGINEERING STEP 2: Text-Based Features\")\nprint(\"=\"*50)\n\n# 1. Genre features - One-hot encoding for top genres\nfrom sklearn.preprocessing import MultiLabelBinarizer\n\n# Get all unique genres\nall_genres = []\nfor genres_list in features_df['genres_names']:\n    if isinstance(genres_list, list):\n        all_genres.extend(genres_list)\n    elif isinstance(genres_list, str):\n        # Handle string representation of list\n        try:\n            import ast\n            genres_list = ast.literal_eval(genres_list)\n            all_genres.extend(genres_list)\n        except:\n            pass\n\n# Get top 15 most common genres\ntop_genres = pd.Series(all_genres).value_counts().head(15).index.tolist()\n\nprint(f\"Top 15 genres: {top_genres}\")\n\n# Create binary features for each top genre\nfor genre in top_genres:\n    features_df[f'genre_{genre.lower().replace(\" \", \"_\")}'] = features_df['genres_names'].apply(\n        lambda x: 1 if isinstance(x, list) and genre in x else 0\n    )\n\n# 2. Cast features - Create features for popular actors\nall_cast = []\nfor cast_list in features_df['cast_names']:\n    if isinstance(cast_list, list):\n        all_cast.extend(cast_list[:3])  # Top 3 actors per movie\n    elif isinstance(cast_list, str):\n        try:\n            cast_list = ast.literal_eval(cast_list)\n            all_cast.extend(cast_list[:3])\n        except:\n            pass\n\n# Get top 20 most frequent actors\ntop_actors = pd.Series(all_cast).value_counts().head(20).index.tolist()\n\nfor actor in top_actors:\n    features_df[f'actor_{actor.lower().replace(\" \", \"_\")}'] = features_df['cast_names'].apply(\n        lambda x: 1 if isinstance(x, list) and actor in x else 0\n    )\n\n# 3. TF-IDF features for combined text\nprint(\"\\nCreating TF-IDF features for content similarity...\")\n\n# Prepare text data for TF-IDF\nfeatures_df['text_features'] = features_df['combined_features'].fillna('')\n\n# Create TF-IDF vectors for top 100 features\ntfidf = TfidfVectorizer(max_features=100, stop_words='english', lowercase=True)\ntfidf_matrix = tfidf.fit_transform(features_df['text_features'])\n\n# Convert to DataFrame\ntfidf_df = pd.DataFrame(tfidf_matrix.toarray(), \n                       columns=[f'tfidf_{word}' for word in tfidf.get_feature_names_out()])\n\n# Concatenate with features_df\nfeatures_df = pd.concat([features_df.reset_index(drop=True), tfidf_df], axis=1)\n\nprint(f\"✅ Created text-based features:\")\nprint(f\"   • {len(top_genres)} genre binary features\")\nprint(f\"   • {len(top_actors)} actor binary features\")\nprint(f\"   • 100 TF-IDF features from combined text\")\nprint(f\"\\nCurrent feature count: {len(features_df.columns)}\")"
   ]
  },
  {
   "cell_type": "code",
   "execution_count": null,
   "metadata": {},
   "outputs": [],
   "source": [
    "print(\"🔧 FEATURE ENGINEERING STEP 3: Advanced Features\")\nprint(\"=\"*45)\n\n# 1. Language features\n# Create binary features for top languages\ntop_languages = features_df['original_language'].value_counts().head(10).index.tolist()\nfor lang in top_languages:\n    features_df[f'lang_{lang}'] = (features_df['original_language'] == lang).astype(int)\n\n# 2. Production company features\nall_companies = []\nfor company_list in features_df['production_companies_names']:\n    if isinstance(company_list, list):\n        all_companies.extend(company_list[:2])  # Top 2 companies\n    elif isinstance(company_list, str):\n        try:\n            company_list = ast.literal_eval(company_list)\n            all_companies.extend(company_list[:2])\n        except:\n            pass\n\ntop_companies = pd.Series(all_companies).value_counts().head(15).index.tolist()\nfor company in top_companies:\n    features_df[f'company_{company.lower().replace(\" \", \"_\")}'] = features_df['production_companies_names'].apply(\n        lambda x: 1 if isinstance(x, list) and company in x else 0\n    )\n\n# 3. Seasonal features (release month)\nfeatures_df['release_month'] = pd.to_datetime(features_df['release_date']).dt.month\nfeatures_df['is_summer_release'] = ((features_df['release_month'] >= 6) & (features_df['release_month'] <= 8)).astype(int)\nfeatures_df['is_holiday_release'] = (features_df['release_month'].isin([11, 12])).astype(int)\n\n# 4. Rating categories\nfeatures_df['rating_category'] = pd.cut(features_df['vote_average'], \n                                      bins=[0, 5, 6.5, 8, 10], \n                                      labels=['Low', 'Medium', 'High', 'Excellent'])\n\n# 5. Popularity tiers\nfeatures_df['popularity_tier'] = pd.qcut(features_df['popularity'], \n                                       q=5, \n                                       labels=['Very_Low', 'Low', 'Medium', 'High', 'Very_High'])\n\nprint(f\"✅ Created advanced features:\")\nprint(f\"   • {len(top_languages)} language binary features\")\nprint(f\"   • {len(top_companies)} production company features\")\nprint(f\"   • Seasonal release features\")\nprint(f\"   • Rating and popularity categories\")\n\nprint(f\"\\nTotal features now: {len(features_df.columns)}\")\n\n# Show sample of new features\nprint(f\"\\n📊 Sample advanced features:\")\nadvanced_cols = ['title', 'lang_en', 'is_summer_release', 'is_holiday_release', 'rating_category', 'popularity_tier']\nprint(features_df[advanced_cols].head())"
   ]
  },
  {
   "cell_type": "code",
   "execution_count": null,
   "metadata": {},
   "outputs": [],
   "source": [
    "print(\"🔧 FEATURE ENGINEERING STEP 4: Movie Similarity Features\")\nprint(\"=\"*55)\n\n# Calculate cosine similarity matrix using TF-IDF features\nprint(\"Computing movie similarity matrix...\")\ntfidf_columns = [col for col in features_df.columns if col.startswith('tfidf_')]\ntfidf_data = features_df[tfidf_columns]\n\n# Calculate cosine similarity\nsimilarity_matrix = cosine_similarity(tfidf_data)\n\n# For each movie, get top 10 most similar movies\nprint(\"Finding top similar movies for each movie...\")\n\nsimilar_movies_features = []\nfor i, movie_id in enumerate(features_df['id']):\n    # Get similarity scores for this movie\n    sim_scores = list(enumerate(similarity_matrix[i]))\n    # Sort by similarity (excluding self)\n    sim_scores = sorted(sim_scores, key=lambda x: x[1], reverse=True)[1:11]  # Top 10 similar\n    \n    # Extract features from similar movies\n    similar_indices = [x[0] for x in sim_scores]\n    similar_scores = [x[1] for x in sim_scores]\n    \n    # Average features of top 5 similar movies\n    if similar_indices:\n        similar_ratings = features_df.iloc[similar_indices[:5]]['vote_average'].mean()\n        similar_popularity = features_df.iloc[similar_indices[:5]]['popularity'].mean()\n        avg_similarity = np.mean(similar_scores[:5])\n    else:\n        similar_ratings = features_df['vote_average'].mean()\n        similar_popularity = features_df['popularity'].mean()\n        avg_similarity = 0\n    \n    similar_movies_features.append({\n        'avg_similar_rating': similar_ratings,\n        'avg_similar_popularity': similar_popularity,\n        'avg_similarity_score': avg_similarity\n    })\n\n# Add similarity features to main dataframe\nsimilarity_df = pd.DataFrame(similar_movies_features)\nfeatures_df = pd.concat([features_df, similarity_df], axis=1)\n\nprint(f\"✅ Created similarity features:\")\nprint(f\"   • Average rating of similar movies\")\nprint(f\"   • Average popularity of similar movies\")\nprint(f\"   • Average similarity score\")\n\nprint(f\"\\n📊 Sample similarity features:\")\nsim_cols = ['title', 'vote_average', 'avg_similar_rating', 'popularity', 'avg_similar_popularity', 'avg_similarity_score']\nprint(features_df[sim_cols].head())"
   ]
  },
  {
   "cell_type": "code",
   "execution_count": null,
   "metadata": {},
   "outputs": [],
   "source": [
    "print(\"🔧 FEATURE ENGINEERING STEP 5: Feature Scaling and Final Preparation\")\nprint(\"=\"*65)\n\n# Select numerical features for scaling\nnumerical_features = [\n    'popularity_score', 'weighted_rating', 'budget_millions', 'revenue_millions', \n    'profit_millions', 'roi', 'movie_age', 'release_month', 'vote_count',\n    'avg_similar_rating', 'avg_similar_popularity', 'avg_similarity_score'\n]\n\n# Scale numerical features\nscaler = StandardScaler()\nfeatures_df[numerical_features] = scaler.fit_transform(features_df[numerical_features])\n\n# Create categorical feature encodings\nle_runtime = LabelEncoder()\nfeatures_df['runtime_category_encoded'] = le_runtime.fit_transform(features_df['runtime_category'].astype(str))\n\nle_rating = LabelEncoder()\nfeatures_df['rating_category_encoded'] = le_rating.fit_transform(features_df['rating_category'].astype(str))\n\nle_popularity = LabelEncoder()\nfeatures_df['popularity_tier_encoded'] = le_popularity.fit_transform(features_df['popularity_tier'].astype(str))\n\nprint(f\"✅ Applied feature scaling and encoding:\")\nprint(f\"   • Scaled {len(numerical_features)} numerical features\")\nprint(f\"   • Encoded 3 categorical features\")\n\n# Prepare final feature set for modeling\nprint(\"\\n🎯 PREPARING FINAL FEATURE SET FOR RECOMMENDER MODEL\")\nprint(\"=\"*55)\n\n# Select features for recommendation model\nfeature_columns = (\n    numerical_features + \n    [col for col in features_df.columns if col.startswith('genre_')] +\n    [col for col in features_df.columns if col.startswith('actor_')] +\n    [col for col in features_df.columns if col.startswith('lang_')] +\n    [col for col in features_df.columns if col.startswith('company_')] +\n    [col for col in features_df.columns if col.startswith('tfidf_')] +\n    ['runtime_category_encoded', 'rating_category_encoded', 'popularity_tier_encoded',\n     'is_summer_release', 'is_holiday_release']\n)\n\n# Create final feature matrix\nfinal_features = features_df[['id', 'title'] + feature_columns].copy()\n\nprint(f\"📊 FINAL FEATURE SET SUMMARY:\")\nprint(f\"Total features: {len(feature_columns)}\")\nprint(f\"   • Numerical features: {len(numerical_features)}\")\nprint(f\"   • Genre features: {len([col for col in feature_columns if col.startswith('genre_')])}\")\nprint(f\"   • Actor features: {len([col for col in feature_columns if col.startswith('actor_')])}\")\nprint(f\"   • Language features: {len([col for col in feature_columns if col.startswith('lang_')])}\")\nprint(f\"   • Company features: {len([col for col in feature_columns if col.startswith('company_')])}\")\nprint(f\"   • TF-IDF features: {len([col for col in feature_columns if col.startswith('tfidf_')])}\")\nprint(f\"   • Other features: {len([col for col in feature_columns if not any(col.startswith(prefix) for prefix in ['genre_', 'actor_', 'lang_', 'company_', 'tfidf_'])])}\")\n\nprint(f\"\\nDataset shape: {final_features.shape}\")\nprint(f\"Memory usage: {final_features.memory_usage(deep=True).sum() / 1024**2:.2f} MB\")"
   ]
  },
  {
   "cell_type": "code",
   "execution_count": null,
   "metadata": {},
   "outputs": [],
   "source": [
    "print(\"💾 SAVING ENGINEERED FEATURES\")\nprint(\"=\"*30)\n\n# Save the complete engineered features dataset\nfinal_features.to_csv('data/dataset/movie_features_engineered.csv', index=False)\nprint(\"✅ Saved complete feature set: 'data/dataset/movie_features_engineered.csv'\")\n\n# Save just the feature matrix (without id and title) for ML models\nX_features = final_features[feature_columns]\nX_features.to_csv('data/dataset/movie_features_matrix.csv', index=False)\nprint(\"✅ Saved feature matrix: 'data/dataset/movie_features_matrix.csv'\")\n\n# Save feature names for reference\nfeature_info = {\n    'feature_names': feature_columns,\n    'numerical_features': numerical_features,\n    'total_features': len(feature_columns)\n}\n\nimport json\nwith open('data/dataset/feature_info.json', 'w') as f:\n    json.dump(feature_info, f, indent=2)\nprint(\"✅ Saved feature info: 'data/dataset/feature_info.json'\")\n\n# Save similarity matrix for content-based recommendations\nnp.save('data/dataset/similarity_matrix.npy', similarity_matrix)\nprint(\"✅ Saved similarity matrix: 'data/dataset/similarity_matrix.npy'\")\n\nprint(f\"\\n🎬 FEATURE ENGINEERING COMPLETED!\")\nprint(f\"📈 Your movie dataset now has {len(feature_columns)} engineered features ready for:\")\nprint(f\"   • Content-based filtering\")\nprint(f\"   • Collaborative filtering\")\nprint(f\"   • Hybrid recommendation systems\")\nprint(f\"   • Machine learning models\")\n\nprint(f\"\\n📋 FEATURE BREAKDOWN:\")\nfor i, feature in enumerate(feature_columns[:10], 1):\n    print(f\"  {i:2d}. {feature}\")\nif len(feature_columns) > 10:\n    print(f\"  ... and {len(feature_columns) - 10} more features\")\n\nprint(f\"\\n🚀 Ready to build your movie recommender system!\")"
   ]
  }
 ],
 "metadata": {
  "kernelspec": {
   "display_name": "Python 3",
   "language": "python",
   "name": "python3"
  },
  "language_info": {
   "codemirror_mode": {
    "name": "ipython",
    "version": 3
   },
   "file_extension": ".py",
   "mimetype": "text/x-python",
   "name": "python",
   "nbconvert_exporter": "python",
   "pygments_lexer": "ipython3",
   "version": "3.8.0"
  }
 },
 "nbformat": 4,
 "nbformat_minor": 4
}